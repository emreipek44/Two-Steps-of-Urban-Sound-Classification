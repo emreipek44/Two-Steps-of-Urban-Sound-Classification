{
  "nbformat": 4,
  "nbformat_minor": 0,
  "metadata": {
    "colab": {
      "provenance": [],
      "collapsed_sections": []
    },
    "kernelspec": {
      "name": "python3",
      "display_name": "Python 3"
    },
    "language_info": {
      "name": "python"
    }
  },
  "cells": [
    {
      "cell_type": "markdown",
      "source": [
        "# Kent Seslerinin Sınıflandırılması"
      ],
      "metadata": {
        "id": "EaN9roxL9RSp"
      }
    },
    {
      "cell_type": "markdown",
      "source": [
        "## Bölüm 1: Ses Verilerinden Spektrogramlara Dönüşüm ve Spektrogram Ön İşleme "
      ],
      "metadata": {
        "id": "0hySg9Sw_L7v"
      }
    },
    {
      "cell_type": "code",
      "execution_count": 1,
      "metadata": {
        "id": "SRIOWybW80YG"
      },
      "outputs": [],
      "source": [
        "import os"
      ]
    },
    {
      "cell_type": "code",
      "source": [
        "from google.colab import drive"
      ],
      "metadata": {
        "id": "t37GrRaM9TtD"
      },
      "execution_count": 2,
      "outputs": []
    },
    {
      "cell_type": "code",
      "source": [
        "drive.mount(\"/content/drive\")"
      ],
      "metadata": {
        "colab": {
          "base_uri": "https://localhost:8080/"
        },
        "id": "7MdAQ5Co9UW4",
        "outputId": "4862d75d-6ece-49b8-d40d-7e79cbdb38e6"
      },
      "execution_count": 3,
      "outputs": [
        {
          "output_type": "stream",
          "name": "stdout",
          "text": [
            "Mounted at /content/drive\n"
          ]
        }
      ]
    },
    {
      "cell_type": "code",
      "source": [
        "os.chdir(\"/content/drive/My Drive\")"
      ],
      "metadata": {
        "id": "pZ-97ftb9XPW"
      },
      "execution_count": 4,
      "outputs": []
    },
    {
      "cell_type": "markdown",
      "source": [
        "## 0. Veri Setinin İncelenmesi\n",
        "\n",
        "a. “UrbanSounds8K” veri setini bilgisayarınıza indirin. (5,6 GB)\n",
        "https://urbansounddataset.weebly.com/urbansound8k.html\n",
        "\n",
        "b. İndirdiğiniz .tar dosyasını açın. (Mentorlarınızdan destek alabilirsiniz )\n",
        "\n",
        "c. README dosyasını okuyarak elimizdeki verinin ne olduğunu ve nasıl\n",
        "isimlendirildiğini iyice anlayın.\n",
        "\n",
        "Değerlendirme sadece “Önişleme” ve “Model Hazırlanması ve Eğitilmesi” notebookları üzerinden olacaktır! Sizden 2 farklı notebook beklenmektedir. Spectrogram oluşturma kısmını isteyen arkadaşlarım yapmayarak, hazırlanmış spectrogramları aşağıdaki linkten indirerek çalışmalarına bunun üzerinden devam edebilirler.\n",
        "\n",
        "Spectrograms:https://drive.google.com/drive/folders/1xey3vAVNDjWxnSfhuUsf_5dGANZWmCog?usp=sharing"
      ],
      "metadata": {
        "id": "ZviZsQuv9ZZK"
      }
    },
    {
      "cell_type": "code",
      "source": [
        "!tar -xvf UrbanSound8K.tar.gz"
      ],
      "metadata": {
        "id": "C0BRAVt99Z5T"
      },
      "execution_count": null,
      "outputs": []
    },
    {
      "cell_type": "code",
      "source": [
        "os.mkdir(\"/content/drive/My Drive/voiceimages\")\n",
        "for etiket in range(10):\n",
        "  os.mkdir(\"/content/drive/My Drive/voiceimages\"+\"/\"+str(etiket))"
      ],
      "metadata": {
        "id": "I5MK8Oqc9exJ"
      },
      "execution_count": null,
      "outputs": []
    },
    {
      "cell_type": "code",
      "source": [
        "!ls"
      ],
      "metadata": {
        "colab": {
          "base_uri": "https://localhost:8080/"
        },
        "id": "f9ug4G8g9gvP",
        "outputId": "8efe1b52-b07a-4b2d-c090-5c5808e7cb3f"
      },
      "execution_count": 8,
      "outputs": [
        {
          "output_type": "stream",
          "name": "stdout",
          "text": [
            "'Colab Notebooks'\n",
            " coursera\n",
            " coursera_deep_learning\n",
            " eternal-opt-sound_classification_project.ipynb\n",
            " f3239-NASA-sat-raw\n",
            " on_islenmis_ses_goruntuleriyle_cnn_modeli.ipynb\n",
            " raster\n",
            " sat-imagery\n",
            " ses_verilerinden_spektrograma_donusum_ve_on_isleme.ipynb\n",
            " spectrograms\n",
            " UrbanSound8K\n",
            " UrbanSound8K.tar.gz\n",
            " voiceimages\n"
          ]
        }
      ]
    },
    {
      "cell_type": "code",
      "source": [
        "import pandas as pd"
      ],
      "metadata": {
        "id": "_uVck7Wn9isf"
      },
      "execution_count": 5,
      "outputs": []
    },
    {
      "cell_type": "code",
      "source": [
        "data=pd.read_csv(\"/content/drive/My Drive/UrbanSound8K/metadata/UrbanSound8K.csv\")\n",
        "data.head()"
      ],
      "metadata": {
        "colab": {
          "base_uri": "https://localhost:8080/",
          "height": 206
        },
        "id": "RCnu-ofN9kfd",
        "outputId": "673ce600-5be5-4c24-b7dc-23acb015f807"
      },
      "execution_count": 6,
      "outputs": [
        {
          "output_type": "execute_result",
          "data": {
            "text/plain": [
              "      slice_file_name    fsID  start        end  salience  fold  classID  \\\n",
              "0    100032-3-0-0.wav  100032    0.0   0.317551         1     5        3   \n",
              "1  100263-2-0-117.wav  100263   58.5  62.500000         1     5        2   \n",
              "2  100263-2-0-121.wav  100263   60.5  64.500000         1     5        2   \n",
              "3  100263-2-0-126.wav  100263   63.0  67.000000         1     5        2   \n",
              "4  100263-2-0-137.wav  100263   68.5  72.500000         1     5        2   \n",
              "\n",
              "              class  \n",
              "0          dog_bark  \n",
              "1  children_playing  \n",
              "2  children_playing  \n",
              "3  children_playing  \n",
              "4  children_playing  "
            ],
            "text/html": [
              "\n",
              "  <div id=\"df-6640d0b2-05d5-461a-96db-68ecba974d27\">\n",
              "    <div class=\"colab-df-container\">\n",
              "      <div>\n",
              "<style scoped>\n",
              "    .dataframe tbody tr th:only-of-type {\n",
              "        vertical-align: middle;\n",
              "    }\n",
              "\n",
              "    .dataframe tbody tr th {\n",
              "        vertical-align: top;\n",
              "    }\n",
              "\n",
              "    .dataframe thead th {\n",
              "        text-align: right;\n",
              "    }\n",
              "</style>\n",
              "<table border=\"1\" class=\"dataframe\">\n",
              "  <thead>\n",
              "    <tr style=\"text-align: right;\">\n",
              "      <th></th>\n",
              "      <th>slice_file_name</th>\n",
              "      <th>fsID</th>\n",
              "      <th>start</th>\n",
              "      <th>end</th>\n",
              "      <th>salience</th>\n",
              "      <th>fold</th>\n",
              "      <th>classID</th>\n",
              "      <th>class</th>\n",
              "    </tr>\n",
              "  </thead>\n",
              "  <tbody>\n",
              "    <tr>\n",
              "      <th>0</th>\n",
              "      <td>100032-3-0-0.wav</td>\n",
              "      <td>100032</td>\n",
              "      <td>0.0</td>\n",
              "      <td>0.317551</td>\n",
              "      <td>1</td>\n",
              "      <td>5</td>\n",
              "      <td>3</td>\n",
              "      <td>dog_bark</td>\n",
              "    </tr>\n",
              "    <tr>\n",
              "      <th>1</th>\n",
              "      <td>100263-2-0-117.wav</td>\n",
              "      <td>100263</td>\n",
              "      <td>58.5</td>\n",
              "      <td>62.500000</td>\n",
              "      <td>1</td>\n",
              "      <td>5</td>\n",
              "      <td>2</td>\n",
              "      <td>children_playing</td>\n",
              "    </tr>\n",
              "    <tr>\n",
              "      <th>2</th>\n",
              "      <td>100263-2-0-121.wav</td>\n",
              "      <td>100263</td>\n",
              "      <td>60.5</td>\n",
              "      <td>64.500000</td>\n",
              "      <td>1</td>\n",
              "      <td>5</td>\n",
              "      <td>2</td>\n",
              "      <td>children_playing</td>\n",
              "    </tr>\n",
              "    <tr>\n",
              "      <th>3</th>\n",
              "      <td>100263-2-0-126.wav</td>\n",
              "      <td>100263</td>\n",
              "      <td>63.0</td>\n",
              "      <td>67.000000</td>\n",
              "      <td>1</td>\n",
              "      <td>5</td>\n",
              "      <td>2</td>\n",
              "      <td>children_playing</td>\n",
              "    </tr>\n",
              "    <tr>\n",
              "      <th>4</th>\n",
              "      <td>100263-2-0-137.wav</td>\n",
              "      <td>100263</td>\n",
              "      <td>68.5</td>\n",
              "      <td>72.500000</td>\n",
              "      <td>1</td>\n",
              "      <td>5</td>\n",
              "      <td>2</td>\n",
              "      <td>children_playing</td>\n",
              "    </tr>\n",
              "  </tbody>\n",
              "</table>\n",
              "</div>\n",
              "      <button class=\"colab-df-convert\" onclick=\"convertToInteractive('df-6640d0b2-05d5-461a-96db-68ecba974d27')\"\n",
              "              title=\"Convert this dataframe to an interactive table.\"\n",
              "              style=\"display:none;\">\n",
              "        \n",
              "  <svg xmlns=\"http://www.w3.org/2000/svg\" height=\"24px\"viewBox=\"0 0 24 24\"\n",
              "       width=\"24px\">\n",
              "    <path d=\"M0 0h24v24H0V0z\" fill=\"none\"/>\n",
              "    <path d=\"M18.56 5.44l.94 2.06.94-2.06 2.06-.94-2.06-.94-.94-2.06-.94 2.06-2.06.94zm-11 1L8.5 8.5l.94-2.06 2.06-.94-2.06-.94L8.5 2.5l-.94 2.06-2.06.94zm10 10l.94 2.06.94-2.06 2.06-.94-2.06-.94-.94-2.06-.94 2.06-2.06.94z\"/><path d=\"M17.41 7.96l-1.37-1.37c-.4-.4-.92-.59-1.43-.59-.52 0-1.04.2-1.43.59L10.3 9.45l-7.72 7.72c-.78.78-.78 2.05 0 2.83L4 21.41c.39.39.9.59 1.41.59.51 0 1.02-.2 1.41-.59l7.78-7.78 2.81-2.81c.8-.78.8-2.07 0-2.86zM5.41 20L4 18.59l7.72-7.72 1.47 1.35L5.41 20z\"/>\n",
              "  </svg>\n",
              "      </button>\n",
              "      \n",
              "  <style>\n",
              "    .colab-df-container {\n",
              "      display:flex;\n",
              "      flex-wrap:wrap;\n",
              "      gap: 12px;\n",
              "    }\n",
              "\n",
              "    .colab-df-convert {\n",
              "      background-color: #E8F0FE;\n",
              "      border: none;\n",
              "      border-radius: 50%;\n",
              "      cursor: pointer;\n",
              "      display: none;\n",
              "      fill: #1967D2;\n",
              "      height: 32px;\n",
              "      padding: 0 0 0 0;\n",
              "      width: 32px;\n",
              "    }\n",
              "\n",
              "    .colab-df-convert:hover {\n",
              "      background-color: #E2EBFA;\n",
              "      box-shadow: 0px 1px 2px rgba(60, 64, 67, 0.3), 0px 1px 3px 1px rgba(60, 64, 67, 0.15);\n",
              "      fill: #174EA6;\n",
              "    }\n",
              "\n",
              "    [theme=dark] .colab-df-convert {\n",
              "      background-color: #3B4455;\n",
              "      fill: #D2E3FC;\n",
              "    }\n",
              "\n",
              "    [theme=dark] .colab-df-convert:hover {\n",
              "      background-color: #434B5C;\n",
              "      box-shadow: 0px 1px 3px 1px rgba(0, 0, 0, 0.15);\n",
              "      filter: drop-shadow(0px 1px 2px rgba(0, 0, 0, 0.3));\n",
              "      fill: #FFFFFF;\n",
              "    }\n",
              "  </style>\n",
              "\n",
              "      <script>\n",
              "        const buttonEl =\n",
              "          document.querySelector('#df-6640d0b2-05d5-461a-96db-68ecba974d27 button.colab-df-convert');\n",
              "        buttonEl.style.display =\n",
              "          google.colab.kernel.accessAllowed ? 'block' : 'none';\n",
              "\n",
              "        async function convertToInteractive(key) {\n",
              "          const element = document.querySelector('#df-6640d0b2-05d5-461a-96db-68ecba974d27');\n",
              "          const dataTable =\n",
              "            await google.colab.kernel.invokeFunction('convertToInteractive',\n",
              "                                                     [key], {});\n",
              "          if (!dataTable) return;\n",
              "\n",
              "          const docLinkHtml = 'Like what you see? Visit the ' +\n",
              "            '<a target=\"_blank\" href=https://colab.research.google.com/notebooks/data_table.ipynb>data table notebook</a>'\n",
              "            + ' to learn more about interactive tables.';\n",
              "          element.innerHTML = '';\n",
              "          dataTable['output_type'] = 'display_data';\n",
              "          await google.colab.output.renderOutput(dataTable, element);\n",
              "          const docLink = document.createElement('div');\n",
              "          docLink.innerHTML = docLinkHtml;\n",
              "          element.appendChild(docLink);\n",
              "        }\n",
              "      </script>\n",
              "    </div>\n",
              "  </div>\n",
              "  "
            ]
          },
          "metadata": {},
          "execution_count": 6
        }
      ]
    },
    {
      "cell_type": "code",
      "source": [
        "import matplotlib.pyplot as plt"
      ],
      "metadata": {
        "id": "kqx2FwBG9muN"
      },
      "execution_count": 7,
      "outputs": []
    },
    {
      "cell_type": "code",
      "source": [
        "plt.figure(figsize=(13,3))\n",
        "plt.title(\"Veri Setindeki 10 Sınıfın Histogramı\")\n",
        "plt.xlabel(\"Sınıflar\")\n",
        "plt.ylabel(\"Histogram\")\n",
        "data[\"class\"].hist()\n",
        "plt.show()"
      ],
      "metadata": {
        "colab": {
          "base_uri": "https://localhost:8080/",
          "height": 242
        },
        "id": "ukVUM5dd9pQu",
        "outputId": "993aeea5-9bcd-4af5-8232-6e0930689270"
      },
      "execution_count": 8,
      "outputs": [
        {
          "output_type": "display_data",
          "data": {
            "text/plain": [
              "<Figure size 936x216 with 1 Axes>"
            ],
            "image/png": "[encoded data removed]"
          },
          "metadata": {
            "needs_background": "light"
          }
        }
      ]
    },
    {
      "cell_type": "markdown",
      "source": [
        "### Sınıflandırma problemlerinde verinin en ideal hali, histogramın düz olduğu haldir. Ancak birçok zaman böyle bir durum olmaz.\n"
      ],
      "metadata": {
        "id": "V9IIa9zA9tVI"
      }
    },
    {
      "cell_type": "markdown",
      "source": [
        "## Ses Verilerinin Spektrum Resimlerinin Elde Edilmesi"
      ],
      "metadata": {
        "id": "ppfbYCKv9wqq"
      }
    },
    {
      "cell_type": "code",
      "source": [
        "import librosa\n",
        "import librosa.display"
      ],
      "metadata": {
        "id": "Pe6ziVdy9tyI"
      },
      "execution_count": null,
      "outputs": []
    },
    {
      "cell_type": "code",
      "source": [
        "import numpy as np"
      ],
      "metadata": {
        "id": "X0dYMYKw9z1-"
      },
      "execution_count": 9,
      "outputs": []
    },
    {
      "cell_type": "code",
      "source": [
        "def create_spectrogram(y):\n",
        "  spec= librosa.feature.melspectrogram(y=y)\n",
        "  spec_conv=librosa.amplitude_to_db(spec, ref=np.max)\n",
        "  return spec_conv"
      ],
      "metadata": {
        "id": "RhXwi8Ya92Np"
      },
      "execution_count": null,
      "outputs": []
    },
    {
      "cell_type": "code",
      "source": [
        "ses, sr = librosa.load(\"/content/drive/My Drive/UrbanSound8K/audio/fold2/4201-3-0-0.wav\")\n",
        "ses=create_spectrogram(ses)\n",
        "librosa.display.specshow(ses, sr= sr)\n",
        "plt.savefig(\"/content/drive/My Drive/resim4.png\", pad_inches = 0, bbox_inches = 'tight')\n",
        "plt.close()\n",
        "\n",
        "ornek_resim= plt.imread(\"/content/drive/My Drive/resim4.png\")\n",
        "plt.title(\"4201-3-0-0.wav Ses Dosyasının Spektrogramı\")\n",
        "plt.imshow(ornek_resim)\n",
        "plt.show()"
      ],
      "metadata": {
        "id": "R9ApzL6t940Q"
      },
      "execution_count": null,
      "outputs": []
    },
    {
      "cell_type": "code",
      "source": [
        "for fold in range(1,11):\n",
        "  fold_iter=\"/content/drive/My Drive/UrbanSound8K/audio/fold\"+str(fold)\n",
        "\n",
        "  for ses_dosyasi in os.listdir(fold_iter):\n",
        "    if ses_dosyasi.endswith(\".wav\"):\n",
        "        ses_isim=ses_dosyasi.split(\".\")[0]\n",
        "        \n",
        "        ses_etiket=ses_dosyasi.split(\"-\")[1]\n",
        "\n",
        "        audio, sr = librosa.load(fold_iter + \"/\" + ses_dosyasi)\n",
        "        spec=create_spectrogram(audio)\n",
        "        librosa.display.specshow(spec, sr= sr)\n",
        "        plt.savefig(\"/content/drive/My Drive/voiceimages/\"+ses_etiket+\"/\"+ses_isim+\".png\", pad_inches = 0, bbox_inches = 'tight')\n",
        "        plt.close()"
      ],
      "metadata": {
        "id": "lsivKKEd97vN"
      },
      "execution_count": null,
      "outputs": []
    },
    {
      "cell_type": "markdown",
      "source": [
        "### Niyetimiz tüm fold'ları gezip tüm sesleri resme dönüştürüp etiketlerine göre \"voiceimages\" klasöründeki etiket(0, 1, 2..., 9) klasörlerine göndermekti. Tüm fold'lar için bir üstteki kodu çalıştırdık ancak belli bir fold'tan sonra GPU yeterli gelmedi. Dolayısıyla sekiz bin küsür veri yerine beş bin küsür veri elde edebildik. Bu yüzden oluşturduğumuz \"voiceimages\" klasörü yerine proje dökümanında paylaşılan \"spectrograms\" klasörünü eğitim için kullanacağız."
      ],
      "metadata": {
        "id": "8g7Nx0HG996b"
      }
    },
    {
      "cell_type": "code",
      "source": [
        "cpt1 = sum([len(files) for r, d, files in os.walk(\"/content/drive/My Drive/voiceimages\")])\n",
        "cpt2 = sum([len(files) for r, d, files in os.walk(\"/content/drive/My Drive/spectrograms\")])\n",
        "print(\"'voiceimages' Klasörü İçerisindeki Toplam Dosya Sayısı: \",cpt1)\n",
        "print(\"'spectrograms' Klasörü İçerisindeki Toplam Dosya Sayısı: \",cpt2)"
      ],
      "metadata": {
        "colab": {
          "base_uri": "https://localhost:8080/"
        },
        "id": "L26mCD2a9-bC",
        "outputId": "af47e976-cfd5-4dd1-eb1a-aa8b62aa2a53"
      },
      "execution_count": 14,
      "outputs": [
        {
          "output_type": "stream",
          "name": "stdout",
          "text": [
            "'voiceimages' Klasörü İçerisindeki Toplam Dosya Sayısı:  5071\n",
            "'spectrograms' Klasörü İçerisindeki Toplam Dosya Sayısı:  8732\n"
          ]
        }
      ]
    },
    {
      "cell_type": "markdown",
      "source": [
        "## 2. Önişleme - Notebook\n",
        "a. Görüntüleri (spectrogramları) sırasıyla okuyarak, grayscale dönüşümü, resizing ve normalizasyon yapın.\n",
        "\n",
        "b. Görüntüleri ait oldukları etiketlerle birlikte, [görüntü, etiket] formatında bir listeye ekleyin.\n",
        "\n",
        "c. Bu listeyi kullanarak, X_train, y_train, X_val, y_val, X_test ve y_test veri setlerini oluşturun.\n",
        "\n",
        "d. Bu veri setlerini bilgisayarınıza kaydedin.\n"
      ],
      "metadata": {
        "id": "zTYVeI2G-CKa"
      }
    },
    {
      "cell_type": "code",
      "source": [
        "import cv2"
      ],
      "metadata": {
        "id": "75O1Gu6q-Ck5"
      },
      "execution_count": 10,
      "outputs": []
    },
    {
      "cell_type": "markdown",
      "source": [
        "If you are enlarging the image, you should prefer to use INTER_LINEAR or INTER_CUBIC interpolation. If you are shrinking the image, you should prefer to use INTER_AREA interpolation.\n",
        "\n",
        "Link: https://stackoverflow.com/questions/23853632/which-kind-of-interpolation-best-for-resizing-image"
      ],
      "metadata": {
        "id": "m8QTggH2-GLq"
      }
    },
    {
      "cell_type": "code",
      "source": [
        "import random"
      ],
      "metadata": {
        "id": "2qWgMqP1-Gvd"
      },
      "execution_count": 11,
      "outputs": []
    },
    {
      "cell_type": "code",
      "source": [
        "imgs= []\n",
        "labels= []"
      ],
      "metadata": {
        "id": "ZioozJuM-L9M"
      },
      "execution_count": 12,
      "outputs": []
    },
    {
      "cell_type": "code",
      "source": [
        "for etiket in range(10):\n",
        "  img_array=os.listdir(\"/content/drive/My Drive/spectrograms/\"+str(etiket))  \n",
        "\n",
        "  for img_iter in range(len(img_array)):\n",
        "    gray_img=cv2.imread(\"/content/drive/My Drive/spectrograms/\"+str(etiket)+\"/\"+img_array[img_iter],0)\n",
        "\n",
        "    gray_r_img = cv2.resize(gray_img, (100, 100), interpolation = cv2.INTER_AREA)\n",
        "\n",
        "    gray_n_img=gray_r_img/255\n",
        "    \n",
        "    imgs.append(gray_n_img)\n",
        "    labels.append(etiket)\n",
        "\n",
        "dict_ = list(zip(imgs, labels))\n",
        "random.seed(42)\n",
        "random.shuffle(dict_)\n",
        "imgs, labels = zip(*dict_)\n",
        "\n",
        "imgs=np.array(imgs)\n",
        "labels=np.array(labels)"
      ],
      "metadata": {
        "id": "whnSN7eV-Nmt"
      },
      "execution_count": 13,
      "outputs": []
    },
    {
      "cell_type": "code",
      "source": [
        "print(imgs.shape)"
      ],
      "metadata": {
        "colab": {
          "base_uri": "https://localhost:8080/"
        },
        "id": "rEX8gI9F-QD6",
        "outputId": "b37b6648-d970-4d40-d7be-5830253d41ae"
      },
      "execution_count": 14,
      "outputs": [
        {
          "output_type": "stream",
          "name": "stdout",
          "text": [
            "(8732, 100, 100)\n"
          ]
        }
      ]
    },
    {
      "cell_type": "code",
      "source": [
        "wrapped_data=imgs.reshape(len(imgs),-1)\n",
        "print(wrapped_data.shape)"
      ],
      "metadata": {
        "colab": {
          "base_uri": "https://localhost:8080/"
        },
        "id": "WzKVVePr-Skf",
        "outputId": "35090933-6f04-47a3-e841-a1a32427d130"
      },
      "execution_count": 15,
      "outputs": [
        {
          "output_type": "stream",
          "name": "stdout",
          "text": [
            "(8732, 10000)\n"
          ]
        }
      ]
    },
    {
      "cell_type": "code",
      "source": [
        "print(labels.shape)"
      ],
      "metadata": {
        "colab": {
          "base_uri": "https://localhost:8080/"
        },
        "id": "wbGoKlrCBi-L",
        "outputId": "d52ad2a3-4901-49c2-efce-b6d5a48e10d2"
      },
      "execution_count": 16,
      "outputs": [
        {
          "output_type": "stream",
          "name": "stdout",
          "text": [
            "(8732,)\n"
          ]
        }
      ]
    },
    {
      "cell_type": "code",
      "source": [
        "np.savetxt('images.txt', wrapped_data)"
      ],
      "metadata": {
        "id": "AuCm4FAm-Uzl"
      },
      "execution_count": 19,
      "outputs": []
    },
    {
      "cell_type": "code",
      "source": [
        "np.savetxt('labels.txt', labels)"
      ],
      "metadata": {
        "id": "iHxnRwxBBsHL"
      },
      "execution_count": null,
      "outputs": []
    },
    {
      "cell_type": "code",
      "source": [],
      "metadata": {
        "id": "SNlg-0VCGQg_"
      },
      "execution_count": null,
      "outputs": []
    }
  ]
}