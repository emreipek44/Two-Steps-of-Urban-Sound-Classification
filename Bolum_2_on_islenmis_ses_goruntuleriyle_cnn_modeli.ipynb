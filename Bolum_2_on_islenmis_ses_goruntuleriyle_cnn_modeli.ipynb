{
  "nbformat": 4,
  "nbformat_minor": 0,
  "metadata": {
    "colab": {
      "provenance": [],
      "collapsed_sections": []
    },
    "kernelspec": {
      "name": "python3",
      "display_name": "Python 3"
    },
    "language_info": {
      "name": "python"
    }
  },
  "cells": [
    {
      "cell_type": "markdown",
      "source": [
        "# Kent Seslerinin Sınıflandırılması"
      ],
      "metadata": {
        "id": "xivMTdoLKVqI"
      }
    },
    {
      "cell_type": "markdown",
      "source": [
        "## Bölüm 2: İşlenmiş ve Kaydedilmiş Ses Spektrum Görüntüleriyle CNN Modelinin Eğitilmesi"
      ],
      "metadata": {
        "id": "MizkpwL2KZx8"
      }
    },
    {
      "cell_type": "code",
      "source": [
        "import os"
      ],
      "metadata": {
        "id": "BTmKtDuPCMge"
      },
      "execution_count": 1,
      "outputs": []
    },
    {
      "cell_type": "code",
      "source": [
        "from google.colab import drive"
      ],
      "metadata": {
        "id": "YvmATy-PBcJl"
      },
      "execution_count": 2,
      "outputs": []
    },
    {
      "cell_type": "code",
      "source": [
        "drive.mount(\"/content/drive\")"
      ],
      "metadata": {
        "colab": {
          "base_uri": "https://localhost:8080/"
        },
        "id": "QSFpYAUOCN-9",
        "outputId": "4e53b8af-138d-4414-80ff-b1cd379b6f9c"
      },
      "execution_count": 3,
      "outputs": [
        {
          "output_type": "stream",
          "name": "stdout",
          "text": [
            "Mounted at /content/drive\n"
          ]
        }
      ]
    },
    {
      "cell_type": "code",
      "source": [
        "os.chdir(\"/content/drive/My Drive\")"
      ],
      "metadata": {
        "id": "q9oNwTEwCdZM"
      },
      "execution_count": 4,
      "outputs": []
    },
    {
      "cell_type": "code",
      "source": [
        "import numpy as np"
      ],
      "metadata": {
        "id": "Q4TSJWxo-3Xv"
      },
      "execution_count": 5,
      "outputs": []
    },
    {
      "cell_type": "markdown",
      "source": [
        "* Önceki bölümde kaydettiğimiz \"imgs.txt\" ve \"labels.txt\" verilerini okuyoruz."
      ],
      "metadata": {
        "id": "raF2wiwiKpT3"
      }
    },
    {
      "cell_type": "code",
      "source": [
        "read_imgs=np.loadtxt(\"imgs.txt\")"
      ],
      "metadata": {
        "id": "R1Q2K_8x7nQR"
      },
      "execution_count": 7,
      "outputs": []
    },
    {
      "cell_type": "code",
      "source": [
        "read_labels=np.loadtxt(\"labels.txt\")"
      ],
      "metadata": {
        "id": "bBxn0vZV8n9k"
      },
      "execution_count": null,
      "outputs": []
    },
    {
      "cell_type": "code",
      "source": [
        "read_imgs.shape"
      ],
      "metadata": {
        "colab": {
          "base_uri": "https://localhost:8080/"
        },
        "id": "dboUWEz87to1",
        "outputId": "35f58650-c12e-4b4c-f167-580112b283ba"
      },
      "execution_count": null,
      "outputs": [
        {
          "output_type": "execute_result",
          "data": {
            "text/plain": [
              "(8732, 10000)"
            ]
          },
          "metadata": {},
          "execution_count": 46
        }
      ]
    },
    {
      "cell_type": "code",
      "source": [
        "read_labels.shape"
      ],
      "metadata": {
        "colab": {
          "base_uri": "https://localhost:8080/"
        },
        "id": "7X0_r56f8rpC",
        "outputId": "c714a661-df06-4681-c6c4-b5640815fefa"
      },
      "execution_count": null,
      "outputs": [
        {
          "output_type": "execute_result",
          "data": {
            "text/plain": [
              "(8732,)"
            ]
          },
          "metadata": {},
          "execution_count": 51
        }
      ]
    },
    {
      "cell_type": "markdown",
      "source": [
        "* Resimleri text dosyasına kaydedebilmek için np.reshape komutu ile tüm resimleri (100,100) boyutundan (10000,) boyutuna düzlemiştik. Böylece resim dizisini de (8732, 100, 100) boyutundan (8732, 10000) boyutuna getirmiştik. Şimdi ters işlem ile resim dizisini tekrar (8732, 100, 100) boyutuna getirelim."
      ],
      "metadata": {
        "id": "Ut272_oCK3jz"
      }
    },
    {
      "cell_type": "code",
      "source": [
        "new_imgs=read_imgs.reshape(read_imgs.shape[0],int(np.sqrt(read_imgs.shape[1])),int(np.sqrt(read_imgs.shape[1])))\n",
        "new_imgs.shape"
      ],
      "metadata": {
        "colab": {
          "base_uri": "https://localhost:8080/"
        },
        "id": "ipjZBkdT2P_3",
        "outputId": "3cc21a13-575d-4a5d-ac79-073c79381086"
      },
      "execution_count": null,
      "outputs": [
        {
          "output_type": "execute_result",
          "data": {
            "text/plain": [
              "(8732, 100, 100)"
            ]
          },
          "metadata": {},
          "execution_count": 47
        }
      ]
    },
    {
      "cell_type": "code",
      "source": [
        "imgs=new_imgs\n",
        "labels=read_labels"
      ],
      "metadata": {
        "id": "JH9PLdLzIzzr"
      },
      "execution_count": 8,
      "outputs": []
    },
    {
      "cell_type": "code",
      "source": [
        "def train_valid_test(imgs, labels, train_percentage = 0.85, valid_percentage = 0.1):\n",
        "  size=len(imgs)\n",
        "\n",
        "  X_train=imgs[:int(train_percentage*size)]\n",
        "  X_val=imgs[int(train_percentage*size):int((train_percentage+valid_percentage)*size)]\n",
        "  X_test=imgs[int((train_percentage+valid_percentage)*size):]\n",
        "\n",
        "  y_train=labels[:int(train_percentage*size)]\n",
        "  y_val=labels[int(train_percentage*size):int((train_percentage+valid_percentage)*size)]\n",
        "  y_test=labels[int((train_percentage+valid_percentage)*size):]\n",
        "\n",
        "  return X_train, y_train, X_val, y_val, X_test, y_test"
      ],
      "metadata": {
        "id": "S4yajbYKezRk"
      },
      "execution_count": null,
      "outputs": []
    },
    {
      "cell_type": "code",
      "source": [
        "X_train, y_train, X_val, y_val, X_test, y_test= train_valid_test(imgs, labels)"
      ],
      "metadata": {
        "id": "MHyuOddcd06p"
      },
      "execution_count": null,
      "outputs": []
    },
    {
      "cell_type": "code",
      "source": [
        "print(\"Train Shape:\", X_train.shape)\n",
        "print(\"Valid Shape:\", X_val.shape)\n",
        "print(\"Test Shape:\", X_test.shape)"
      ],
      "metadata": {
        "colab": {
          "base_uri": "https://localhost:8080/"
        },
        "id": "MngZh6Otb6At",
        "outputId": "fdfd3ee3-4d12-45c1-d05a-b5a1efe5b50d"
      },
      "execution_count": null,
      "outputs": [
        {
          "output_type": "stream",
          "name": "stdout",
          "text": [
            "Train Shape: (7422, 100, 100)\n",
            "Valid Shape: (873, 100, 100)\n",
            "Test Shape: (437, 100, 100)\n"
          ]
        }
      ]
    },
    {
      "cell_type": "code",
      "source": [
        "import matplotlib.pyplot as plt"
      ],
      "metadata": {
        "id": "h5SX-kQ_JBDA"
      },
      "execution_count": 9,
      "outputs": []
    },
    {
      "cell_type": "code",
      "source": [
        "hist_colors=[\"red\", \"green\", \"blue\", \"yellow\"]\n",
        "hist_titles=[\"Toplam\", \"Train\", \"Valid\", \"Test\"]\n",
        "data=[labels, y_train, y_val, y_test]\n",
        "plt.figure(figsize=(20,20))\n",
        "for i in range(4):\n",
        "  plt.subplot(4, 1, i+1)\n",
        "  plt.title(hist_titles[i]+\" Veri Setinin Histogramı\")\n",
        "  plt.hist(data[i], bins=10, color=hist_colors[i], edgecolor=\"black\", range=[0, 10])\n",
        "  plt.xticks(range(11))\n",
        "  plt.xlabel(\"Labels\")\n",
        "  plt.ylabel(\"Histogram\")\n",
        "plt.show()"
      ],
      "metadata": {
        "colab": {
          "base_uri": "https://localhost:8080/",
          "height": 1000
        },
        "id": "2VfknlDwMm5R",
        "outputId": "5a1f690e-ceb6-4022-b870-8a20b6fc1d70"
      },
      "execution_count": null,
      "outputs": [
        {
          "output_type": "display_data",
          "data": {
            "text/plain": [
              "<Figure size 1440x1440 with 4 Axes>"
            ],
            "image/png": "[encoded data removed]"
          },
          "metadata": {
            "needs_background": "light"
          }
        }
      ]
    },
    {
      "cell_type": "markdown",
      "source": [
        "## 3. Model Hazırlanması ve Eğitimi - Notebook\n",
        "a. Bir CNN modeli hazırlayın.\n",
        "\n",
        "b. Modeli hazırlamış olduğunuz veriyi kullanarak eğitin.\n",
        "\n",
        "c. Modelin performans metriklerini, loss ve accuracy grafiklerini ekrana yazdırın.\n",
        "\n",
        "d. Aldığınız sonuçlara göre hyperparameter optimization yapın."
      ],
      "metadata": {
        "id": "VBDq2yvB6t5g"
      }
    },
    {
      "cell_type": "code",
      "source": [
        "import tensorflow as tf"
      ],
      "metadata": {
        "id": "jXUd0LarGnOG"
      },
      "execution_count": 11,
      "outputs": []
    },
    {
      "cell_type": "code",
      "source": [
        "model=tf.keras.Sequential()\n",
        "model.add(tf.keras.layers.Conv2D(32,\n",
        "                                 kernel_size=(3,3),\n",
        "                                 strides=(1,1),\n",
        "                                 padding=\"valid\",\n",
        "                                 activation=\"relu\",\n",
        "                                 input_shape=(100,100,1))) \n",
        "model.add(tf.keras.layers.Conv2D(64,\n",
        "                                 kernel_size=(3,3),\n",
        "                                 strides=(1,1),\n",
        "                                 padding=\"valid\",\n",
        "                                 activation=\"relu\"))\n",
        "model.add(tf.keras.layers.MaxPool2D((2,2)))\n",
        "model.add(tf.keras.layers.Conv2D(128,\n",
        "                                 kernel_size=(3,3),\n",
        "                                 strides=(1,1),\n",
        "                                 padding=\"valid\",\n",
        "                                 activation=\"relu\"))\n",
        "model.add(tf.keras.layers.MaxPool2D((2,2)))\n",
        "\n",
        "model.add(tf.keras.layers.Flatten())\n",
        "model.add(tf.keras.layers.Dense(1024, activation=\"relu\"))\n",
        "model.add(tf.keras.layers.Dropout(0.81))\n",
        "model.add(tf.keras.layers.Dense(2048, activation=\"relu\"))\n",
        "model.add(tf.keras.layers.Dropout(0.81))\n",
        "model.add(tf.keras.layers.Dense(10, activation=\"softmax\"))\n",
        "\n",
        "model.compile(optimizer=\"adam\", loss=\"sparse_categorical_crossentropy\", metrics=[\"accuracy\"])"
      ],
      "metadata": {
        "id": "06ko42NE60fj"
      },
      "execution_count": 10,
      "outputs": []
    },
    {
      "cell_type": "code",
      "source": [
        "results=model.fit(X_train, y_train, batch_size=256, epochs=50, validation_data=(X_val, y_val))"
      ],
      "metadata": {
        "id": "hAvyi1DX_aIk",
        "colab": {
          "base_uri": "https://localhost:8080/"
        },
        "outputId": "de75a55e-9894-4a8e-fc08-e27804392758"
      },
      "execution_count": null,
      "outputs": [
        {
          "output_type": "stream",
          "name": "stdout",
          "text": [
            "Epoch 1/50\n",
            "29/29 [==============================] - 8s 243ms/step - loss: 2.1581 - accuracy: 0.2067 - val_loss: 1.8173 - val_accuracy: 0.3368\n",
            "Epoch 2/50\n",
            "29/29 [==============================] - 7s 238ms/step - loss: 1.6596 - accuracy: 0.3791 - val_loss: 1.2794 - val_accuracy: 0.5510\n",
            "Epoch 3/50\n",
            "29/29 [==============================] - 7s 242ms/step - loss: 1.2677 - accuracy: 0.5523 - val_loss: 0.9921 - val_accuracy: 0.6701\n",
            "Epoch 4/50\n",
            "29/29 [==============================] - 7s 244ms/step - loss: 1.0185 - accuracy: 0.6427 - val_loss: 0.8134 - val_accuracy: 0.7640\n",
            "Epoch 5/50\n",
            "29/29 [==============================] - 7s 247ms/step - loss: 0.8483 - accuracy: 0.7165 - val_loss: 0.6684 - val_accuracy: 0.8007\n",
            "Epoch 6/50\n",
            "29/29 [==============================] - 7s 248ms/step - loss: 0.7137 - accuracy: 0.7668 - val_loss: 0.5933 - val_accuracy: 0.8339\n",
            "Epoch 7/50\n",
            "29/29 [==============================] - 7s 247ms/step - loss: 0.6312 - accuracy: 0.7951 - val_loss: 0.5360 - val_accuracy: 0.8328\n",
            "Epoch 8/50\n",
            "29/29 [==============================] - 7s 246ms/step - loss: 0.5218 - accuracy: 0.8354 - val_loss: 0.4525 - val_accuracy: 0.8580\n",
            "Epoch 9/50\n",
            "29/29 [==============================] - 7s 245ms/step - loss: 0.4604 - accuracy: 0.8511 - val_loss: 0.4588 - val_accuracy: 0.8454\n",
            "Epoch 10/50\n",
            "29/29 [==============================] - 7s 244ms/step - loss: 0.4055 - accuracy: 0.8677 - val_loss: 0.4270 - val_accuracy: 0.8648\n",
            "Epoch 11/50\n",
            "29/29 [==============================] - 7s 243ms/step - loss: 0.3526 - accuracy: 0.8808 - val_loss: 0.4130 - val_accuracy: 0.8866\n",
            "Epoch 12/50\n",
            "29/29 [==============================] - 7s 242ms/step - loss: 0.3168 - accuracy: 0.8968 - val_loss: 0.3698 - val_accuracy: 0.8820\n",
            "Epoch 13/50\n",
            "29/29 [==============================] - 7s 242ms/step - loss: 0.2779 - accuracy: 0.9138 - val_loss: 0.3604 - val_accuracy: 0.8923\n",
            "Epoch 14/50\n",
            "29/29 [==============================] - 7s 243ms/step - loss: 0.2501 - accuracy: 0.9173 - val_loss: 0.3594 - val_accuracy: 0.8935\n",
            "Epoch 15/50\n",
            "29/29 [==============================] - 7s 244ms/step - loss: 0.2309 - accuracy: 0.9255 - val_loss: 0.3597 - val_accuracy: 0.8935\n",
            "Epoch 16/50\n",
            "29/29 [==============================] - 7s 244ms/step - loss: 0.2226 - accuracy: 0.9250 - val_loss: 0.3554 - val_accuracy: 0.8912\n",
            "Epoch 17/50\n",
            "29/29 [==============================] - 7s 245ms/step - loss: 0.1883 - accuracy: 0.9384 - val_loss: 0.3456 - val_accuracy: 0.8877\n",
            "Epoch 18/50\n",
            "29/29 [==============================] - 7s 245ms/step - loss: 0.1719 - accuracy: 0.9419 - val_loss: 0.3369 - val_accuracy: 0.9003\n",
            "Epoch 19/50\n",
            "29/29 [==============================] - 7s 245ms/step - loss: 0.1439 - accuracy: 0.9554 - val_loss: 0.3440 - val_accuracy: 0.9003\n",
            "Epoch 20/50\n",
            "29/29 [==============================] - 7s 244ms/step - loss: 0.1383 - accuracy: 0.9570 - val_loss: 0.3394 - val_accuracy: 0.9095\n",
            "Epoch 21/50\n",
            "29/29 [==============================] - 7s 244ms/step - loss: 0.1267 - accuracy: 0.9594 - val_loss: 0.3736 - val_accuracy: 0.8935\n",
            "Epoch 22/50\n",
            "29/29 [==============================] - 7s 245ms/step - loss: 0.1366 - accuracy: 0.9569 - val_loss: 0.3752 - val_accuracy: 0.8958\n",
            "Epoch 23/50\n",
            "29/29 [==============================] - 7s 244ms/step - loss: 0.1092 - accuracy: 0.9632 - val_loss: 0.3639 - val_accuracy: 0.9164\n",
            "Epoch 24/50\n",
            "29/29 [==============================] - 7s 244ms/step - loss: 0.1101 - accuracy: 0.9687 - val_loss: 0.3578 - val_accuracy: 0.9129\n",
            "Epoch 25/50\n",
            "29/29 [==============================] - 7s 244ms/step - loss: 0.1113 - accuracy: 0.9638 - val_loss: 0.3305 - val_accuracy: 0.9072\n",
            "Epoch 26/50\n",
            "29/29 [==============================] - 7s 245ms/step - loss: 0.0935 - accuracy: 0.9696 - val_loss: 0.4096 - val_accuracy: 0.8992\n",
            "Epoch 27/50\n",
            "29/29 [==============================] - 7s 243ms/step - loss: 0.1009 - accuracy: 0.9696 - val_loss: 0.3442 - val_accuracy: 0.9244\n",
            "Epoch 28/50\n",
            "29/29 [==============================] - 7s 244ms/step - loss: 0.1053 - accuracy: 0.9636 - val_loss: 0.3453 - val_accuracy: 0.9152\n",
            "Epoch 29/50\n",
            "29/29 [==============================] - 7s 243ms/step - loss: 0.0918 - accuracy: 0.9717 - val_loss: 0.3386 - val_accuracy: 0.9221\n",
            "Epoch 30/50\n",
            "29/29 [==============================] - 7s 244ms/step - loss: 0.0823 - accuracy: 0.9717 - val_loss: 0.3410 - val_accuracy: 0.9129\n",
            "Epoch 31/50\n",
            "29/29 [==============================] - 7s 243ms/step - loss: 0.0857 - accuracy: 0.9732 - val_loss: 0.3989 - val_accuracy: 0.9129\n",
            "Epoch 32/50\n",
            "29/29 [==============================] - 7s 243ms/step - loss: 0.0788 - accuracy: 0.9756 - val_loss: 0.4137 - val_accuracy: 0.9049\n",
            "Epoch 33/50\n",
            "29/29 [==============================] - 7s 243ms/step - loss: 0.0639 - accuracy: 0.9786 - val_loss: 0.4060 - val_accuracy: 0.9084\n",
            "Epoch 34/50\n",
            "29/29 [==============================] - 7s 244ms/step - loss: 0.0685 - accuracy: 0.9795 - val_loss: 0.4082 - val_accuracy: 0.9152\n",
            "Epoch 35/50\n",
            "29/29 [==============================] - 7s 244ms/step - loss: 0.0615 - accuracy: 0.9809 - val_loss: 0.4039 - val_accuracy: 0.9198\n",
            "Epoch 36/50\n",
            "29/29 [==============================] - 7s 244ms/step - loss: 0.0687 - accuracy: 0.9766 - val_loss: 0.3467 - val_accuracy: 0.9175\n",
            "Epoch 37/50\n",
            "29/29 [==============================] - 7s 244ms/step - loss: 0.0672 - accuracy: 0.9783 - val_loss: 0.4150 - val_accuracy: 0.9026\n",
            "Epoch 38/50\n",
            "29/29 [==============================] - 7s 244ms/step - loss: 0.0646 - accuracy: 0.9795 - val_loss: 0.3752 - val_accuracy: 0.9221\n",
            "Epoch 39/50\n",
            "29/29 [==============================] - 7s 243ms/step - loss: 0.0653 - accuracy: 0.9813 - val_loss: 0.4028 - val_accuracy: 0.9118\n",
            "Epoch 40/50\n",
            "29/29 [==============================] - 7s 244ms/step - loss: 0.0695 - accuracy: 0.9775 - val_loss: 0.4396 - val_accuracy: 0.9038\n",
            "Epoch 41/50\n",
            "29/29 [==============================] - 7s 244ms/step - loss: 0.0609 - accuracy: 0.9805 - val_loss: 0.3672 - val_accuracy: 0.9152\n",
            "Epoch 42/50\n",
            "29/29 [==============================] - 7s 244ms/step - loss: 0.0511 - accuracy: 0.9837 - val_loss: 0.3659 - val_accuracy: 0.9267\n",
            "Epoch 43/50\n",
            "29/29 [==============================] - 7s 243ms/step - loss: 0.0562 - accuracy: 0.9809 - val_loss: 0.4225 - val_accuracy: 0.9107\n",
            "Epoch 44/50\n",
            "29/29 [==============================] - 7s 244ms/step - loss: 0.0594 - accuracy: 0.9814 - val_loss: 0.4169 - val_accuracy: 0.9061\n",
            "Epoch 45/50\n",
            "29/29 [==============================] - 7s 243ms/step - loss: 0.0561 - accuracy: 0.9822 - val_loss: 0.3604 - val_accuracy: 0.9198\n",
            "Epoch 46/50\n",
            "29/29 [==============================] - 7s 243ms/step - loss: 0.0527 - accuracy: 0.9836 - val_loss: 0.4479 - val_accuracy: 0.9049\n",
            "Epoch 47/50\n",
            "29/29 [==============================] - 7s 243ms/step - loss: 0.0521 - accuracy: 0.9848 - val_loss: 0.4457 - val_accuracy: 0.9164\n",
            "Epoch 48/50\n",
            "29/29 [==============================] - 7s 243ms/step - loss: 0.0509 - accuracy: 0.9838 - val_loss: 0.4359 - val_accuracy: 0.9221\n",
            "Epoch 49/50\n",
            "29/29 [==============================] - 7s 243ms/step - loss: 0.0459 - accuracy: 0.9864 - val_loss: 0.4410 - val_accuracy: 0.9152\n",
            "Epoch 50/50\n",
            "29/29 [==============================] - 7s 244ms/step - loss: 0.0489 - accuracy: 0.9825 - val_loss: 0.3908 - val_accuracy: 0.9278\n"
          ]
        }
      ]
    },
    {
      "cell_type": "code",
      "source": [
        "plt.plot(results.history[\"loss\"], label=\"loss\")\n",
        "plt.plot(results.history[\"val_loss\"], label=\"val_loss\")\n",
        "plt.xlabel(\"Epochs\")\n",
        "plt.ylabel(\"Loss\")\n",
        "plt.legend()\n",
        "plt.show()"
      ],
      "metadata": {
        "id": "rQPwceHn_nvK",
        "colab": {
          "base_uri": "https://localhost:8080/",
          "height": 279
        },
        "outputId": "fa020a5c-70ef-4330-9203-3d8ba6b4c998"
      },
      "execution_count": null,
      "outputs": [
        {
          "output_type": "display_data",
          "data": {
            "text/plain": [
              "<Figure size 432x288 with 1 Axes>"
            ],
            "image/png": "[encoded data removed]"
          },
          "metadata": {
            "needs_background": "light"
          }
        }
      ]
    },
    {
      "cell_type": "code",
      "source": [
        "plt.plot(results.history[\"accuracy\"], label=\"accuracy\")\n",
        "plt.plot(results.history[\"val_accuracy\"], label=\"val_accuracy\")\n",
        "plt.xlabel(\"Epochs\")\n",
        "plt.ylabel(\"Accuracy\")\n",
        "plt.legend()\n",
        "plt.show()"
      ],
      "metadata": {
        "id": "3JHx_bwv_yfg",
        "colab": {
          "base_uri": "https://localhost:8080/",
          "height": 279
        },
        "outputId": "7f3529a7-670b-43dd-f926-b6a613d66ca6"
      },
      "execution_count": null,
      "outputs": [
        {
          "output_type": "display_data",
          "data": {
            "text/plain": [
              "<Figure size 432x288 with 1 Axes>"
            ],
            "image/png": "[encoded data removed]"
          },
          "metadata": {
            "needs_background": "light"
          }
        }
      ]
    },
    {
      "cell_type": "code",
      "source": [
        "model.evaluate(X_test, y_test)"
      ],
      "metadata": {
        "id": "VTBGZx4q_72F",
        "colab": {
          "base_uri": "https://localhost:8080/"
        },
        "outputId": "ed30ad36-1533-46ce-db24-d0fb2d2bea26"
      },
      "execution_count": null,
      "outputs": [
        {
          "output_type": "stream",
          "name": "stdout",
          "text": [
            "14/14 [==============================] - 0s 15ms/step - loss: 0.4356 - accuracy: 0.9039\n"
          ]
        },
        {
          "output_type": "execute_result",
          "data": {
            "text/plain": [
              "[0.43560606241226196, 0.9038901329040527]"
            ]
          },
          "metadata": {},
          "execution_count": 43
        }
      ]
    }
  ]
}